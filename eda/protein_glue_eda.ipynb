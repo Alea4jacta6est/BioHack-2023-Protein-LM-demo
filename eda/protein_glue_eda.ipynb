{
 "cells": [
  {
   "cell_type": "markdown",
   "metadata": {},
   "source": [
    "Data was downloaded from [here](https://www.ibi.vu.nl/downloads/ProteinGLUE/downstream_csv/)"
   ]
  },
  {
   "cell_type": "code",
   "execution_count": 1,
   "metadata": {},
   "outputs": [],
   "source": [
    "import pandas as pd"
   ]
  },
  {
   "cell_type": "code",
   "execution_count": 22,
   "metadata": {},
   "outputs": [],
   "source": [
    "import os"
   ]
  },
  {
   "cell_type": "code",
   "execution_count": 7,
   "metadata": {},
   "outputs": [],
   "source": [
    "prefix = ['asabu', 'ss', 'Epitope_anti', 'HPrank']\n",
    "datasets = ['training', 'test', 'validation']"
   ]
  },
  {
   "cell_type": "code",
   "execution_count": 27,
   "metadata": {},
   "outputs": [],
   "source": [
    "for pref in prefix:\n",
    "    if not os.path.exists(f'../data_preprocessed/{pref}'):\n",
    "        os.mkdir(f'../data_preprocessed/{pref}')\n",
    "    for data in datasets:\n",
    "        df = pd.read_csv(f'../glue_data/{pref}_{data}.csv')\n",
    "        df['sequence'] = df['sequence'].apply(lambda x: x.split(\"'\")[1])\n",
    "        if data == 'validation':\n",
    "            data = 'validate'\n",
    "        elif data == 'training':\n",
    "            data = 'train'\n",
    "        df.to_csv(f'../data_preprocessed/{pref}/{data}.csv', index=False)"
   ]
  },
  {
   "cell_type": "code",
   "execution_count": null,
   "metadata": {},
   "outputs": [],
   "source": [
    "pd.read_csv('')"
   ]
  }
 ],
 "metadata": {
  "kernelspec": {
   "display_name": "Python 3",
   "language": "python",
   "name": "python3"
  },
  "language_info": {
   "codemirror_mode": {
    "name": "ipython",
    "version": 3
   },
   "file_extension": ".py",
   "mimetype": "text/x-python",
   "name": "python",
   "nbconvert_exporter": "python",
   "pygments_lexer": "ipython3",
   "version": "3.7.6"
  }
 },
 "nbformat": 4,
 "nbformat_minor": 4
}
