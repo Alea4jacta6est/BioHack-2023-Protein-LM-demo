{
 "cells": [
  {
   "cell_type": "code",
   "execution_count": 20,
   "id": "31c3f155-5170-4d29-b1ec-2df671a3a17b",
   "metadata": {},
   "outputs": [],
   "source": [
    "import pandas as pd\n",
    "from tqdm import tqdm"
   ]
  },
  {
   "cell_type": "code",
   "execution_count": 125,
   "id": "3740ee27-d376-4c7d-be41-108196ae7af2",
   "metadata": {},
   "outputs": [],
   "source": [
    "df = pd.read_csv('data/ss3/validate.csv')"
   ]
  },
  {
   "cell_type": "code",
   "execution_count": 126,
   "id": "fc5c96d9-d2c9-4043-bcf2-dc335a6e53cb",
   "metadata": {},
   "outputs": [
    {
     "data": {
      "text/plain": [
       "<AxesSubplot:>"
      ]
     },
     "execution_count": 126,
     "metadata": {},
     "output_type": "execute_result"
    },
    {
     "data": {
      "image/png": "[encoded data removed]",
      "text/plain": [
       "<Figure size 640x480 with 1 Axes>"
      ]
     },
     "metadata": {},
     "output_type": "display_data"
    }
   ],
   "source": [
    "df.sequence.apply(lambda x: len(x)).hist(bins=20)"
   ]
  },
  {
   "cell_type": "code",
   "execution_count": 127,
   "id": "786cd58b-f803-4ab9-af27-e43869767d99",
   "metadata": {},
   "outputs": [
    {
     "data": {
      "text/html": [
       "<div>\n",
       "<style scoped>\n",
       "    .dataframe tbody tr th:only-of-type {\n",
       "        vertical-align: middle;\n",
       "    }\n",
       "\n",
       "    .dataframe tbody tr th {\n",
       "        vertical-align: top;\n",
       "    }\n",
       "\n",
       "    .dataframe thead th {\n",
       "        text-align: right;\n",
       "    }\n",
       "</style>\n",
       "<table border=\"1\" class=\"dataframe\">\n",
       "  <thead>\n",
       "    <tr style=\"text-align: right;\">\n",
       "      <th></th>\n",
       "      <th>ss3</th>\n",
       "      <th>ss8</th>\n",
       "      <th>sequence</th>\n",
       "    </tr>\n",
       "  </thead>\n",
       "  <tbody>\n",
       "    <tr>\n",
       "      <th>0</th>\n",
       "      <td>[0 0 0 0 0 0 0 0 0 0 0 0 0 0 0 0 1 1 1 0 0 0 0...</td>\n",
       "      <td>[0 0 2 2 0 2 2 1 1 2 2 0 0 0 2 2 4 4 4 0 0 1 0...</td>\n",
       "      <td>ASSGSPWYGPDRVKYLGPFSGESPSYLTGEFPGDYGWDTAGLSADP...</td>\n",
       "    </tr>\n",
       "    <tr>\n",
       "      <th>1</th>\n",
       "      <td>[0 0 0 1 1 1 1 1 1 0 0 0 0 0 0 2 2 2 2 2 2 1 1...</td>\n",
       "      <td>[0 0 0 3 3 3 3 3 3 0 0 0 1 1 0 6 6 6 6 6 6 3 3...</td>\n",
       "      <td>GNFSEIESQGNISLKFGFLGLGMGGCAIAAECANKETQIKNNKYPY...</td>\n",
       "    </tr>\n",
       "    <tr>\n",
       "      <th>2</th>\n",
       "      <td>[0 0 1 1 1 0 2 2 2 0 1 1 1 1 1 2 2 2 2 2 2 2 2...</td>\n",
       "      <td>[0 0 4 4 4 0 6 6 6 1 4 4 4 4 4 6 6 6 6 6 6 6 6...</td>\n",
       "      <td>SSASSAQVTGTLLGTGKTNTTQMPALYTWQHQIYNVNFIPSSSGTL...</td>\n",
       "    </tr>\n",
       "    <tr>\n",
       "      <th>3</th>\n",
       "      <td>[0 1 1 1 0 0 2 2 2 0 0 0 2 2 2 2 2 2 2 0 0 0 0...</td>\n",
       "      <td>[0 4 4 4 1 1 6 6 6 0 0 1 6 6 6 6 6 6 6 0 2 2 0...</td>\n",
       "      <td>MHSDALSWGHGPRLFEVFLEPTCPFSVKAFFKLDDLLAQAGEDNVT...</td>\n",
       "    </tr>\n",
       "    <tr>\n",
       "      <th>4</th>\n",
       "      <td>[0 0 0 0 1 1 1 1 1 1 1 1 1 1 1 1 1 1 1 1 1 0 0...</td>\n",
       "      <td>[0 0 0 0 3 3 3 3 3 3 3 3 3 3 3 3 3 3 3 3 3 2 2...</td>\n",
       "      <td>GAMDPDLEATLRAIVHSATSLVDARYGAMEVHDRQHRVLHFVYEGI...</td>\n",
       "    </tr>\n",
       "    <tr>\n",
       "      <th>...</th>\n",
       "      <td>...</td>\n",
       "      <td>...</td>\n",
       "      <td>...</td>\n",
       "    </tr>\n",
       "    <tr>\n",
       "      <th>1097</th>\n",
       "      <td>[0 0 0 0 2 2 2 2 2 2 0 0 0 0 1 1 1 0 0 0 0 0 0...</td>\n",
       "      <td>[0 0 0 0 6 6 6 6 6 6 0 1 0 0 4 4 4 2 2 2 2 1 1...</td>\n",
       "      <td>EIRVKAIILAAGLGTRLRPLTENTPKALVQVNQKPLIEYQIEFLKE...</td>\n",
       "    </tr>\n",
       "    <tr>\n",
       "      <th>1098</th>\n",
       "      <td>[0 0 0 0 2 2 2 2 2 2 0 0 0 0 0 1 1 1 1 1 1 1 1...</td>\n",
       "      <td>[0 0 0 0 6 6 6 6 6 6 0 0 0 0 0 3 3 3 3 3 3 3 3...</td>\n",
       "      <td>AIYHLTAKTGSGGQSARAKADYIQREGKYARDMDEVLHAESGHMPE...</td>\n",
       "    </tr>\n",
       "    <tr>\n",
       "      <th>1099</th>\n",
       "      <td>[0 0 0 2 2 2 2 2 0 0 1 1 1 1 1 1 1 1 1 1 1 1 1...</td>\n",
       "      <td>[0 0 0 6 6 6 6 6 0 0 3 3 3 3 3 3 3 3 3 3 3 5 5...</td>\n",
       "      <td>NAMKIIFSASPANRAAAYALRQAVFVEERGISADVEFDVKDTDQCE...</td>\n",
       "    </tr>\n",
       "    <tr>\n",
       "      <th>1100</th>\n",
       "      <td>[0 0 1 1 1 1 0 0 0 0 0 0 0 0 0 0 2 2 2 2 2 0 0...</td>\n",
       "      <td>[0 0 3 3 3 3 0 0 0 0 0 0 0 1 1 0 6 6 6 6 6 0 2...</td>\n",
       "      <td>RTLKELERELQPRQHLWYFEYYTGNNVGLFMKMNRVIYSGQSDIQR...</td>\n",
       "    </tr>\n",
       "    <tr>\n",
       "      <th>1101</th>\n",
       "      <td>[0 0 0 0 0 0 1 1 1 1 1 1 1 0 0 0 0 1 1 1 0 0 0...</td>\n",
       "      <td>[0 0 0 1 1 1 3 3 3 3 3 3 3 0 0 0 0 4 4 4 1 0 0...</td>\n",
       "      <td>GIWEDEDARNFYENLIDLKAFVPATLELGDEAEDLTKKLLDEQSTG...</td>\n",
       "    </tr>\n",
       "  </tbody>\n",
       "</table>\n",
       "<p>1102 rows × 3 columns</p>\n",
       "</div>"
      ],
      "text/plain": [
       "                                                    ss3  \\\n",
       "0     [0 0 0 0 0 0 0 0 0 0 0 0 0 0 0 0 1 1 1 0 0 0 0...   \n",
       "1     [0 0 0 1 1 1 1 1 1 0 0 0 0 0 0 2 2 2 2 2 2 1 1...   \n",
       "2     [0 0 1 1 1 0 2 2 2 0 1 1 1 1 1 2 2 2 2 2 2 2 2...   \n",
       "3     [0 1 1 1 0 0 2 2 2 0 0 0 2 2 2 2 2 2 2 0 0 0 0...   \n",
       "4     [0 0 0 0 1 1 1 1 1 1 1 1 1 1 1 1 1 1 1 1 1 0 0...   \n",
       "...                                                 ...   \n",
       "1097  [0 0 0 0 2 2 2 2 2 2 0 0 0 0 1 1 1 0 0 0 0 0 0...   \n",
       "1098  [0 0 0 0 2 2 2 2 2 2 0 0 0 0 0 1 1 1 1 1 1 1 1...   \n",
       "1099  [0 0 0 2 2 2 2 2 0 0 1 1 1 1 1 1 1 1 1 1 1 1 1...   \n",
       "1100  [0 0 1 1 1 1 0 0 0 0 0 0 0 0 0 0 2 2 2 2 2 0 0...   \n",
       "1101  [0 0 0 0 0 0 1 1 1 1 1 1 1 0 0 0 0 1 1 1 0 0 0...   \n",
       "\n",
       "                                                    ss8  \\\n",
       "0     [0 0 2 2 0 2 2 1 1 2 2 0 0 0 2 2 4 4 4 0 0 1 0...   \n",
       "1     [0 0 0 3 3 3 3 3 3 0 0 0 1 1 0 6 6 6 6 6 6 3 3...   \n",
       "2     [0 0 4 4 4 0 6 6 6 1 4 4 4 4 4 6 6 6 6 6 6 6 6...   \n",
       "3     [0 4 4 4 1 1 6 6 6 0 0 1 6 6 6 6 6 6 6 0 2 2 0...   \n",
       "4     [0 0 0 0 3 3 3 3 3 3 3 3 3 3 3 3 3 3 3 3 3 2 2...   \n",
       "...                                                 ...   \n",
       "1097  [0 0 0 0 6 6 6 6 6 6 0 1 0 0 4 4 4 2 2 2 2 1 1...   \n",
       "1098  [0 0 0 0 6 6 6 6 6 6 0 0 0 0 0 3 3 3 3 3 3 3 3...   \n",
       "1099  [0 0 0 6 6 6 6 6 0 0 3 3 3 3 3 3 3 3 3 3 3 5 5...   \n",
       "1100  [0 0 3 3 3 3 0 0 0 0 0 0 0 1 1 0 6 6 6 6 6 0 2...   \n",
       "1101  [0 0 0 1 1 1 3 3 3 3 3 3 3 0 0 0 0 4 4 4 1 0 0...   \n",
       "\n",
       "                                               sequence  \n",
       "0     ASSGSPWYGPDRVKYLGPFSGESPSYLTGEFPGDYGWDTAGLSADP...  \n",
       "1     GNFSEIESQGNISLKFGFLGLGMGGCAIAAECANKETQIKNNKYPY...  \n",
       "2     SSASSAQVTGTLLGTGKTNTTQMPALYTWQHQIYNVNFIPSSSGTL...  \n",
       "3     MHSDALSWGHGPRLFEVFLEPTCPFSVKAFFKLDDLLAQAGEDNVT...  \n",
       "4     GAMDPDLEATLRAIVHSATSLVDARYGAMEVHDRQHRVLHFVYEGI...  \n",
       "...                                                 ...  \n",
       "1097  EIRVKAIILAAGLGTRLRPLTENTPKALVQVNQKPLIEYQIEFLKE...  \n",
       "1098  AIYHLTAKTGSGGQSARAKADYIQREGKYARDMDEVLHAESGHMPE...  \n",
       "1099  NAMKIIFSASPANRAAAYALRQAVFVEERGISADVEFDVKDTDQCE...  \n",
       "1100  RTLKELERELQPRQHLWYFEYYTGNNVGLFMKMNRVIYSGQSDIQR...  \n",
       "1101  GIWEDEDARNFYENLIDLKAFVPATLELGDEAEDLTKKLLDEQSTG...  \n",
       "\n",
       "[1102 rows x 3 columns]"
      ]
     },
     "execution_count": 127,
     "metadata": {},
     "output_type": "execute_result"
    }
   ],
   "source": [
    "df"
   ]
  },
  {
   "cell_type": "code",
   "execution_count": 128,
   "id": "9ce9d91c-cb93-47ec-bdac-5addb4a2e8bc",
   "metadata": {},
   "outputs": [],
   "source": [
    "# from transformers import pipeline\n",
    "\n",
    "\n",
    "# class SSPredictor():\n",
    "#     def __init__(self, model_name=\"models/esm_asabu\") -> None:\n",
    "#         self.pipe = pipeline(\"token-classification\", model=model_name)\n",
    "    \n",
    "#     def predict(self, sequence: str):\n",
    "#         predictions_dict = self.pipe(sequence)\n",
    "#         predictions_dict = [int(x['entity'].split('_')[1]) for x in predictions_dict]\n",
    "#         return predictions_dict"
   ]
  },
  {
   "cell_type": "code",
   "execution_count": 129,
   "id": "ef63615b-28e8-429b-b1ff-92b032a5d6e5",
   "metadata": {},
   "outputs": [],
   "source": [
    "# predictor = SSPredictor()"
   ]
  },
  {
   "cell_type": "code",
   "execution_count": 130,
   "id": "d72fb422-d327-425a-adf8-21018bdf9584",
   "metadata": {},
   "outputs": [],
   "source": [
    "# predictions = []\n",
    "# for seq in tqdm(df.sequence):\n",
    "#     predictions.append(predictor.predict(seq))"
   ]
  },
  {
   "cell_type": "code",
   "execution_count": 131,
   "id": "72e8a792-5767-4465-a310-dba0aa160564",
   "metadata": {},
   "outputs": [],
   "source": [
    "import json\n",
    "with open('prot_trans/prottrans_ss3.json', 'r') as openfile:\n",
    "    # Reading from json file\n",
    "    json_object = json.load(openfile)"
   ]
  },
  {
   "cell_type": "code",
   "execution_count": null,
   "id": "cbc2429c-df7d-4d8f-89c2-9e9f51d2b09f",
   "metadata": {},
   "outputs": [],
   "source": []
  },
  {
   "cell_type": "code",
   "execution_count": 132,
   "id": "0670cf26-6deb-449e-87de-35488dba31c8",
   "metadata": {},
   "outputs": [],
   "source": [
    "df['predicted'] = pd.Series(json_object)"
   ]
  },
  {
   "cell_type": "code",
   "execution_count": 133,
   "id": "9050d4d7-f2dc-4c41-9657-cde190920e4f",
   "metadata": {},
   "outputs": [
    {
     "data": {
      "text/html": [
       "<div>\n",
       "<style scoped>\n",
       "    .dataframe tbody tr th:only-of-type {\n",
       "        vertical-align: middle;\n",
       "    }\n",
       "\n",
       "    .dataframe tbody tr th {\n",
       "        vertical-align: top;\n",
       "    }\n",
       "\n",
       "    .dataframe thead th {\n",
       "        text-align: right;\n",
       "    }\n",
       "</style>\n",
       "<table border=\"1\" class=\"dataframe\">\n",
       "  <thead>\n",
       "    <tr style=\"text-align: right;\">\n",
       "      <th></th>\n",
       "      <th>ss3</th>\n",
       "      <th>ss8</th>\n",
       "      <th>sequence</th>\n",
       "      <th>predicted</th>\n",
       "    </tr>\n",
       "  </thead>\n",
       "  <tbody>\n",
       "    <tr>\n",
       "      <th>0</th>\n",
       "      <td>[0 0 0 0 0 0 0 0 0 0 0 0 0 0 0 0 1 1 1 0 0 0 0...</td>\n",
       "      <td>[0 0 2 2 0 2 2 1 1 2 2 0 0 0 2 2 4 4 4 0 0 1 0...</td>\n",
       "      <td>ASSGSPWYGPDRVKYLGPFSGESPSYLTGEFPGDYGWDTAGLSADP...</td>\n",
       "      <td>[0, 0, 0, 0, 0, 0, 0, 0, 0, 0, 0, 0, 0, 0, 0, ...</td>\n",
       "    </tr>\n",
       "    <tr>\n",
       "      <th>1</th>\n",
       "      <td>[0 0 0 1 1 1 1 1 1 0 0 0 0 0 0 2 2 2 2 2 2 1 1...</td>\n",
       "      <td>[0 0 0 3 3 3 3 3 3 0 0 0 1 1 0 6 6 6 6 6 6 3 3...</td>\n",
       "      <td>GNFSEIESQGNISLKFGFLGLGMGGCAIAAECANKETQIKNNKYPY...</td>\n",
       "      <td>[0, 0, 0, 0, 0, 1, 0, 0, 0, 0, 0, 0, 0, 0, 0, ...</td>\n",
       "    </tr>\n",
       "    <tr>\n",
       "      <th>2</th>\n",
       "      <td>[0 0 1 1 1 0 2 2 2 0 1 1 1 1 1 2 2 2 2 2 2 2 2...</td>\n",
       "      <td>[0 0 4 4 4 0 6 6 6 1 4 4 4 4 4 6 6 6 6 6 6 6 6...</td>\n",
       "      <td>SSASSAQVTGTLLGTGKTNTTQMPALYTWQHQIYNVNFIPSSSGTL...</td>\n",
       "      <td>[0, 0, 0, 0, 0, 0, 2, 2, 2, 2, 2, 2, 2, 2, 2, ...</td>\n",
       "    </tr>\n",
       "    <tr>\n",
       "      <th>3</th>\n",
       "      <td>[0 1 1 1 0 0 2 2 2 0 0 0 2 2 2 2 2 2 2 0 0 0 0...</td>\n",
       "      <td>[0 4 4 4 1 1 6 6 6 0 0 1 6 6 6 6 6 6 6 0 2 2 0...</td>\n",
       "      <td>MHSDALSWGHGPRLFEVFLEPTCPFSVKAFFKLDDLLAQAGEDNVT...</td>\n",
       "      <td>[0, 0, 0, 0, 0, 2, 2, 2, 0, 0, 0, 0, 2, 2, 2, ...</td>\n",
       "    </tr>\n",
       "    <tr>\n",
       "      <th>4</th>\n",
       "      <td>[0 0 0 0 1 1 1 1 1 1 1 1 1 1 1 1 1 1 1 1 1 0 0...</td>\n",
       "      <td>[0 0 0 0 3 3 3 3 3 3 3 3 3 3 3 3 3 3 3 3 3 2 2...</td>\n",
       "      <td>GAMDPDLEATLRAIVHSATSLVDARYGAMEVHDRQHRVLHFVYEGI...</td>\n",
       "      <td>[0, 0, 0, 0, 0, 0, 1, 1, 1, 1, 1, 1, 1, 1, 1, ...</td>\n",
       "    </tr>\n",
       "    <tr>\n",
       "      <th>...</th>\n",
       "      <td>...</td>\n",
       "      <td>...</td>\n",
       "      <td>...</td>\n",
       "      <td>...</td>\n",
       "    </tr>\n",
       "    <tr>\n",
       "      <th>1097</th>\n",
       "      <td>[0 0 0 0 2 2 2 2 2 2 0 0 0 0 1 1 1 0 0 0 0 0 0...</td>\n",
       "      <td>[0 0 0 0 6 6 6 6 6 6 0 1 0 0 4 4 4 2 2 2 2 1 1...</td>\n",
       "      <td>EIRVKAIILAAGLGTRLRPLTENTPKALVQVNQKPLIEYQIEFLKE...</td>\n",
       "      <td>[0, 0, 0, 0, 2, 2, 2, 2, 2, 0, 0, 0, 0, 0, 1, ...</td>\n",
       "    </tr>\n",
       "    <tr>\n",
       "      <th>1098</th>\n",
       "      <td>[0 0 0 0 2 2 2 2 2 2 0 0 0 0 0 1 1 1 1 1 1 1 1...</td>\n",
       "      <td>[0 0 0 0 6 6 6 6 6 6 0 0 0 0 0 3 3 3 3 3 3 3 3...</td>\n",
       "      <td>AIYHLTAKTGSGGQSARAKADYIQREGKYARDMDEVLHAESGHMPE...</td>\n",
       "      <td>[0, 2, 2, 2, 2, 2, 2, 2, 2, 0, 0, 0, 0, 0, 0, ...</td>\n",
       "    </tr>\n",
       "    <tr>\n",
       "      <th>1099</th>\n",
       "      <td>[0 0 0 2 2 2 2 2 0 0 1 1 1 1 1 1 1 1 1 1 1 1 1...</td>\n",
       "      <td>[0 0 0 6 6 6 6 6 0 0 3 3 3 3 3 3 3 3 3 3 3 5 5...</td>\n",
       "      <td>NAMKIIFSASPANRAAAYALRQAVFVEERGISADVEFDVKDTDQCE...</td>\n",
       "      <td>[0, 0, 0, 2, 2, 2, 2, 0, 0, 0, 1, 1, 1, 1, 1, ...</td>\n",
       "    </tr>\n",
       "    <tr>\n",
       "      <th>1100</th>\n",
       "      <td>[0 0 1 1 1 1 0 0 0 0 0 0 0 0 0 0 2 2 2 2 2 0 0...</td>\n",
       "      <td>[0 0 3 3 3 3 0 0 0 0 0 0 0 1 1 0 6 6 6 6 6 0 2...</td>\n",
       "      <td>RTLKELERELQPRQHLWYFEYYTGNNVGLFMKMNRVIYSGQSDIQR...</td>\n",
       "      <td>[0, 0, 1, 1, 1, 1, 1, 1, 1, 0, 0, 0, 0, 0, 0, ...</td>\n",
       "    </tr>\n",
       "    <tr>\n",
       "      <th>1101</th>\n",
       "      <td>[0 0 0 0 0 0 1 1 1 1 1 1 1 0 0 0 0 1 1 1 0 0 0...</td>\n",
       "      <td>[0 0 0 1 1 1 3 3 3 3 3 3 3 0 0 0 0 4 4 4 1 0 0...</td>\n",
       "      <td>GIWEDEDARNFYENLIDLKAFVPATLELGDEAEDLTKKLLDEQSTG...</td>\n",
       "      <td>[0, 0, 0, 0, 0, 1, 1, 1, 1, 1, 1, 1, 1, 1, 1, ...</td>\n",
       "    </tr>\n",
       "  </tbody>\n",
       "</table>\n",
       "<p>1102 rows × 4 columns</p>\n",
       "</div>"
      ],
      "text/plain": [
       "                                                    ss3  \\\n",
       "0     [0 0 0 0 0 0 0 0 0 0 0 0 0 0 0 0 1 1 1 0 0 0 0...   \n",
       "1     [0 0 0 1 1 1 1 1 1 0 0 0 0 0 0 2 2 2 2 2 2 1 1...   \n",
       "2     [0 0 1 1 1 0 2 2 2 0 1 1 1 1 1 2 2 2 2 2 2 2 2...   \n",
       "3     [0 1 1 1 0 0 2 2 2 0 0 0 2 2 2 2 2 2 2 0 0 0 0...   \n",
       "4     [0 0 0 0 1 1 1 1 1 1 1 1 1 1 1 1 1 1 1 1 1 0 0...   \n",
       "...                                                 ...   \n",
       "1097  [0 0 0 0 2 2 2 2 2 2 0 0 0 0 1 1 1 0 0 0 0 0 0...   \n",
       "1098  [0 0 0 0 2 2 2 2 2 2 0 0 0 0 0 1 1 1 1 1 1 1 1...   \n",
       "1099  [0 0 0 2 2 2 2 2 0 0 1 1 1 1 1 1 1 1 1 1 1 1 1...   \n",
       "1100  [0 0 1 1 1 1 0 0 0 0 0 0 0 0 0 0 2 2 2 2 2 0 0...   \n",
       "1101  [0 0 0 0 0 0 1 1 1 1 1 1 1 0 0 0 0 1 1 1 0 0 0...   \n",
       "\n",
       "                                                    ss8  \\\n",
       "0     [0 0 2 2 0 2 2 1 1 2 2 0 0 0 2 2 4 4 4 0 0 1 0...   \n",
       "1     [0 0 0 3 3 3 3 3 3 0 0 0 1 1 0 6 6 6 6 6 6 3 3...   \n",
       "2     [0 0 4 4 4 0 6 6 6 1 4 4 4 4 4 6 6 6 6 6 6 6 6...   \n",
       "3     [0 4 4 4 1 1 6 6 6 0 0 1 6 6 6 6 6 6 6 0 2 2 0...   \n",
       "4     [0 0 0 0 3 3 3 3 3 3 3 3 3 3 3 3 3 3 3 3 3 2 2...   \n",
       "...                                                 ...   \n",
       "1097  [0 0 0 0 6 6 6 6 6 6 0 1 0 0 4 4 4 2 2 2 2 1 1...   \n",
       "1098  [0 0 0 0 6 6 6 6 6 6 0 0 0 0 0 3 3 3 3 3 3 3 3...   \n",
       "1099  [0 0 0 6 6 6 6 6 0 0 3 3 3 3 3 3 3 3 3 3 3 5 5...   \n",
       "1100  [0 0 3 3 3 3 0 0 0 0 0 0 0 1 1 0 6 6 6 6 6 0 2...   \n",
       "1101  [0 0 0 1 1 1 3 3 3 3 3 3 3 0 0 0 0 4 4 4 1 0 0...   \n",
       "\n",
       "                                               sequence  \\\n",
       "0     ASSGSPWYGPDRVKYLGPFSGESPSYLTGEFPGDYGWDTAGLSADP...   \n",
       "1     GNFSEIESQGNISLKFGFLGLGMGGCAIAAECANKETQIKNNKYPY...   \n",
       "2     SSASSAQVTGTLLGTGKTNTTQMPALYTWQHQIYNVNFIPSSSGTL...   \n",
       "3     MHSDALSWGHGPRLFEVFLEPTCPFSVKAFFKLDDLLAQAGEDNVT...   \n",
       "4     GAMDPDLEATLRAIVHSATSLVDARYGAMEVHDRQHRVLHFVYEGI...   \n",
       "...                                                 ...   \n",
       "1097  EIRVKAIILAAGLGTRLRPLTENTPKALVQVNQKPLIEYQIEFLKE...   \n",
       "1098  AIYHLTAKTGSGGQSARAKADYIQREGKYARDMDEVLHAESGHMPE...   \n",
       "1099  NAMKIIFSASPANRAAAYALRQAVFVEERGISADVEFDVKDTDQCE...   \n",
       "1100  RTLKELERELQPRQHLWYFEYYTGNNVGLFMKMNRVIYSGQSDIQR...   \n",
       "1101  GIWEDEDARNFYENLIDLKAFVPATLELGDEAEDLTKKLLDEQSTG...   \n",
       "\n",
       "                                              predicted  \n",
       "0     [0, 0, 0, 0, 0, 0, 0, 0, 0, 0, 0, 0, 0, 0, 0, ...  \n",
       "1     [0, 0, 0, 0, 0, 1, 0, 0, 0, 0, 0, 0, 0, 0, 0, ...  \n",
       "2     [0, 0, 0, 0, 0, 0, 2, 2, 2, 2, 2, 2, 2, 2, 2, ...  \n",
       "3     [0, 0, 0, 0, 0, 2, 2, 2, 0, 0, 0, 0, 2, 2, 2, ...  \n",
       "4     [0, 0, 0, 0, 0, 0, 1, 1, 1, 1, 1, 1, 1, 1, 1, ...  \n",
       "...                                                 ...  \n",
       "1097  [0, 0, 0, 0, 2, 2, 2, 2, 2, 0, 0, 0, 0, 0, 1, ...  \n",
       "1098  [0, 2, 2, 2, 2, 2, 2, 2, 2, 0, 0, 0, 0, 0, 0, ...  \n",
       "1099  [0, 0, 0, 2, 2, 2, 2, 0, 0, 0, 1, 1, 1, 1, 1, ...  \n",
       "1100  [0, 0, 1, 1, 1, 1, 1, 1, 1, 0, 0, 0, 0, 0, 0, ...  \n",
       "1101  [0, 0, 0, 0, 0, 1, 1, 1, 1, 1, 1, 1, 1, 1, 1, ...  \n",
       "\n",
       "[1102 rows x 4 columns]"
      ]
     },
     "execution_count": 133,
     "metadata": {},
     "output_type": "execute_result"
    }
   ],
   "source": [
    "df"
   ]
  },
  {
   "cell_type": "code",
   "execution_count": 135,
   "id": "3182a2fb-de0d-4aff-a205-9d192064fd83",
   "metadata": {},
   "outputs": [],
   "source": [
    "df['ss3'] = df.ss3.apply(lambda x: list(map(int, x[1:-1].split(' '))))"
   ]
  },
  {
   "cell_type": "code",
   "execution_count": 136,
   "id": "b55f38ff-2748-4563-9e37-fc0d6c28caa4",
   "metadata": {},
   "outputs": [
    {
     "data": {
      "text/html": [
       "<div>\n",
       "<style scoped>\n",
       "    .dataframe tbody tr th:only-of-type {\n",
       "        vertical-align: middle;\n",
       "    }\n",
       "\n",
       "    .dataframe tbody tr th {\n",
       "        vertical-align: top;\n",
       "    }\n",
       "\n",
       "    .dataframe thead th {\n",
       "        text-align: right;\n",
       "    }\n",
       "</style>\n",
       "<table border=\"1\" class=\"dataframe\">\n",
       "  <thead>\n",
       "    <tr style=\"text-align: right;\">\n",
       "      <th></th>\n",
       "      <th>ss3</th>\n",
       "      <th>ss8</th>\n",
       "      <th>sequence</th>\n",
       "      <th>predicted</th>\n",
       "    </tr>\n",
       "  </thead>\n",
       "  <tbody>\n",
       "    <tr>\n",
       "      <th>0</th>\n",
       "      <td>[0, 0, 0, 0, 0, 0, 0, 0, 0, 0, 0, 0, 0, 0, 0, ...</td>\n",
       "      <td>[0 0 2 2 0 2 2 1 1 2 2 0 0 0 2 2 4 4 4 0 0 1 0...</td>\n",
       "      <td>ASSGSPWYGPDRVKYLGPFSGESPSYLTGEFPGDYGWDTAGLSADP...</td>\n",
       "      <td>[0, 0, 0, 0, 0, 0, 0, 0, 0, 0, 0, 0, 0, 0, 0, ...</td>\n",
       "    </tr>\n",
       "    <tr>\n",
       "      <th>1</th>\n",
       "      <td>[0, 0, 0, 1, 1, 1, 1, 1, 1, 0, 0, 0, 0, 0, 0, ...</td>\n",
       "      <td>[0 0 0 3 3 3 3 3 3 0 0 0 1 1 0 6 6 6 6 6 6 3 3...</td>\n",
       "      <td>GNFSEIESQGNISLKFGFLGLGMGGCAIAAECANKETQIKNNKYPY...</td>\n",
       "      <td>[0, 0, 0, 0, 0, 1, 0, 0, 0, 0, 0, 0, 0, 0, 0, ...</td>\n",
       "    </tr>\n",
       "    <tr>\n",
       "      <th>2</th>\n",
       "      <td>[0, 0, 1, 1, 1, 0, 2, 2, 2, 0, 1, 1, 1, 1, 1, ...</td>\n",
       "      <td>[0 0 4 4 4 0 6 6 6 1 4 4 4 4 4 6 6 6 6 6 6 6 6...</td>\n",
       "      <td>SSASSAQVTGTLLGTGKTNTTQMPALYTWQHQIYNVNFIPSSSGTL...</td>\n",
       "      <td>[0, 0, 0, 0, 0, 0, 2, 2, 2, 2, 2, 2, 2, 2, 2, ...</td>\n",
       "    </tr>\n",
       "    <tr>\n",
       "      <th>3</th>\n",
       "      <td>[0, 1, 1, 1, 0, 0, 2, 2, 2, 0, 0, 0, 2, 2, 2, ...</td>\n",
       "      <td>[0 4 4 4 1 1 6 6 6 0 0 1 6 6 6 6 6 6 6 0 2 2 0...</td>\n",
       "      <td>MHSDALSWGHGPRLFEVFLEPTCPFSVKAFFKLDDLLAQAGEDNVT...</td>\n",
       "      <td>[0, 0, 0, 0, 0, 2, 2, 2, 0, 0, 0, 0, 2, 2, 2, ...</td>\n",
       "    </tr>\n",
       "    <tr>\n",
       "      <th>4</th>\n",
       "      <td>[0, 0, 0, 0, 1, 1, 1, 1, 1, 1, 1, 1, 1, 1, 1, ...</td>\n",
       "      <td>[0 0 0 0 3 3 3 3 3 3 3 3 3 3 3 3 3 3 3 3 3 2 2...</td>\n",
       "      <td>GAMDPDLEATLRAIVHSATSLVDARYGAMEVHDRQHRVLHFVYEGI...</td>\n",
       "      <td>[0, 0, 0, 0, 0, 0, 1, 1, 1, 1, 1, 1, 1, 1, 1, ...</td>\n",
       "    </tr>\n",
       "    <tr>\n",
       "      <th>...</th>\n",
       "      <td>...</td>\n",
       "      <td>...</td>\n",
       "      <td>...</td>\n",
       "      <td>...</td>\n",
       "    </tr>\n",
       "    <tr>\n",
       "      <th>1097</th>\n",
       "      <td>[0, 0, 0, 0, 2, 2, 2, 2, 2, 2, 0, 0, 0, 0, 1, ...</td>\n",
       "      <td>[0 0 0 0 6 6 6 6 6 6 0 1 0 0 4 4 4 2 2 2 2 1 1...</td>\n",
       "      <td>EIRVKAIILAAGLGTRLRPLTENTPKALVQVNQKPLIEYQIEFLKE...</td>\n",
       "      <td>[0, 0, 0, 0, 2, 2, 2, 2, 2, 0, 0, 0, 0, 0, 1, ...</td>\n",
       "    </tr>\n",
       "    <tr>\n",
       "      <th>1098</th>\n",
       "      <td>[0, 0, 0, 0, 2, 2, 2, 2, 2, 2, 0, 0, 0, 0, 0, ...</td>\n",
       "      <td>[0 0 0 0 6 6 6 6 6 6 0 0 0 0 0 3 3 3 3 3 3 3 3...</td>\n",
       "      <td>AIYHLTAKTGSGGQSARAKADYIQREGKYARDMDEVLHAESGHMPE...</td>\n",
       "      <td>[0, 2, 2, 2, 2, 2, 2, 2, 2, 0, 0, 0, 0, 0, 0, ...</td>\n",
       "    </tr>\n",
       "    <tr>\n",
       "      <th>1099</th>\n",
       "      <td>[0, 0, 0, 2, 2, 2, 2, 2, 0, 0, 1, 1, 1, 1, 1, ...</td>\n",
       "      <td>[0 0 0 6 6 6 6 6 0 0 3 3 3 3 3 3 3 3 3 3 3 5 5...</td>\n",
       "      <td>NAMKIIFSASPANRAAAYALRQAVFVEERGISADVEFDVKDTDQCE...</td>\n",
       "      <td>[0, 0, 0, 2, 2, 2, 2, 0, 0, 0, 1, 1, 1, 1, 1, ...</td>\n",
       "    </tr>\n",
       "    <tr>\n",
       "      <th>1100</th>\n",
       "      <td>[0, 0, 1, 1, 1, 1, 0, 0, 0, 0, 0, 0, 0, 0, 0, ...</td>\n",
       "      <td>[0 0 3 3 3 3 0 0 0 0 0 0 0 1 1 0 6 6 6 6 6 0 2...</td>\n",
       "      <td>RTLKELERELQPRQHLWYFEYYTGNNVGLFMKMNRVIYSGQSDIQR...</td>\n",
       "      <td>[0, 0, 1, 1, 1, 1, 1, 1, 1, 0, 0, 0, 0, 0, 0, ...</td>\n",
       "    </tr>\n",
       "    <tr>\n",
       "      <th>1101</th>\n",
       "      <td>[0, 0, 0, 0, 0, 0, 1, 1, 1, 1, 1, 1, 1, 0, 0, ...</td>\n",
       "      <td>[0 0 0 1 1 1 3 3 3 3 3 3 3 0 0 0 0 4 4 4 1 0 0...</td>\n",
       "      <td>GIWEDEDARNFYENLIDLKAFVPATLELGDEAEDLTKKLLDEQSTG...</td>\n",
       "      <td>[0, 0, 0, 0, 0, 1, 1, 1, 1, 1, 1, 1, 1, 1, 1, ...</td>\n",
       "    </tr>\n",
       "  </tbody>\n",
       "</table>\n",
       "<p>1102 rows × 4 columns</p>\n",
       "</div>"
      ],
      "text/plain": [
       "                                                    ss3  \\\n",
       "0     [0, 0, 0, 0, 0, 0, 0, 0, 0, 0, 0, 0, 0, 0, 0, ...   \n",
       "1     [0, 0, 0, 1, 1, 1, 1, 1, 1, 0, 0, 0, 0, 0, 0, ...   \n",
       "2     [0, 0, 1, 1, 1, 0, 2, 2, 2, 0, 1, 1, 1, 1, 1, ...   \n",
       "3     [0, 1, 1, 1, 0, 0, 2, 2, 2, 0, 0, 0, 2, 2, 2, ...   \n",
       "4     [0, 0, 0, 0, 1, 1, 1, 1, 1, 1, 1, 1, 1, 1, 1, ...   \n",
       "...                                                 ...   \n",
       "1097  [0, 0, 0, 0, 2, 2, 2, 2, 2, 2, 0, 0, 0, 0, 1, ...   \n",
       "1098  [0, 0, 0, 0, 2, 2, 2, 2, 2, 2, 0, 0, 0, 0, 0, ...   \n",
       "1099  [0, 0, 0, 2, 2, 2, 2, 2, 0, 0, 1, 1, 1, 1, 1, ...   \n",
       "1100  [0, 0, 1, 1, 1, 1, 0, 0, 0, 0, 0, 0, 0, 0, 0, ...   \n",
       "1101  [0, 0, 0, 0, 0, 0, 1, 1, 1, 1, 1, 1, 1, 0, 0, ...   \n",
       "\n",
       "                                                    ss8  \\\n",
       "0     [0 0 2 2 0 2 2 1 1 2 2 0 0 0 2 2 4 4 4 0 0 1 0...   \n",
       "1     [0 0 0 3 3 3 3 3 3 0 0 0 1 1 0 6 6 6 6 6 6 3 3...   \n",
       "2     [0 0 4 4 4 0 6 6 6 1 4 4 4 4 4 6 6 6 6 6 6 6 6...   \n",
       "3     [0 4 4 4 1 1 6 6 6 0 0 1 6 6 6 6 6 6 6 0 2 2 0...   \n",
       "4     [0 0 0 0 3 3 3 3 3 3 3 3 3 3 3 3 3 3 3 3 3 2 2...   \n",
       "...                                                 ...   \n",
       "1097  [0 0 0 0 6 6 6 6 6 6 0 1 0 0 4 4 4 2 2 2 2 1 1...   \n",
       "1098  [0 0 0 0 6 6 6 6 6 6 0 0 0 0 0 3 3 3 3 3 3 3 3...   \n",
       "1099  [0 0 0 6 6 6 6 6 0 0 3 3 3 3 3 3 3 3 3 3 3 5 5...   \n",
       "1100  [0 0 3 3 3 3 0 0 0 0 0 0 0 1 1 0 6 6 6 6 6 0 2...   \n",
       "1101  [0 0 0 1 1 1 3 3 3 3 3 3 3 0 0 0 0 4 4 4 1 0 0...   \n",
       "\n",
       "                                               sequence  \\\n",
       "0     ASSGSPWYGPDRVKYLGPFSGESPSYLTGEFPGDYGWDTAGLSADP...   \n",
       "1     GNFSEIESQGNISLKFGFLGLGMGGCAIAAECANKETQIKNNKYPY...   \n",
       "2     SSASSAQVTGTLLGTGKTNTTQMPALYTWQHQIYNVNFIPSSSGTL...   \n",
       "3     MHSDALSWGHGPRLFEVFLEPTCPFSVKAFFKLDDLLAQAGEDNVT...   \n",
       "4     GAMDPDLEATLRAIVHSATSLVDARYGAMEVHDRQHRVLHFVYEGI...   \n",
       "...                                                 ...   \n",
       "1097  EIRVKAIILAAGLGTRLRPLTENTPKALVQVNQKPLIEYQIEFLKE...   \n",
       "1098  AIYHLTAKTGSGGQSARAKADYIQREGKYARDMDEVLHAESGHMPE...   \n",
       "1099  NAMKIIFSASPANRAAAYALRQAVFVEERGISADVEFDVKDTDQCE...   \n",
       "1100  RTLKELERELQPRQHLWYFEYYTGNNVGLFMKMNRVIYSGQSDIQR...   \n",
       "1101  GIWEDEDARNFYENLIDLKAFVPATLELGDEAEDLTKKLLDEQSTG...   \n",
       "\n",
       "                                              predicted  \n",
       "0     [0, 0, 0, 0, 0, 0, 0, 0, 0, 0, 0, 0, 0, 0, 0, ...  \n",
       "1     [0, 0, 0, 0, 0, 1, 0, 0, 0, 0, 0, 0, 0, 0, 0, ...  \n",
       "2     [0, 0, 0, 0, 0, 0, 2, 2, 2, 2, 2, 2, 2, 2, 2, ...  \n",
       "3     [0, 0, 0, 0, 0, 2, 2, 2, 0, 0, 0, 0, 2, 2, 2, ...  \n",
       "4     [0, 0, 0, 0, 0, 0, 1, 1, 1, 1, 1, 1, 1, 1, 1, ...  \n",
       "...                                                 ...  \n",
       "1097  [0, 0, 0, 0, 2, 2, 2, 2, 2, 0, 0, 0, 0, 0, 1, ...  \n",
       "1098  [0, 2, 2, 2, 2, 2, 2, 2, 2, 0, 0, 0, 0, 0, 0, ...  \n",
       "1099  [0, 0, 0, 2, 2, 2, 2, 0, 0, 0, 1, 1, 1, 1, 1, ...  \n",
       "1100  [0, 0, 1, 1, 1, 1, 1, 1, 1, 0, 0, 0, 0, 0, 0, ...  \n",
       "1101  [0, 0, 0, 0, 0, 1, 1, 1, 1, 1, 1, 1, 1, 1, 1, ...  \n",
       "\n",
       "[1102 rows x 4 columns]"
      ]
     },
     "execution_count": 136,
     "metadata": {},
     "output_type": "execute_result"
    }
   ],
   "source": [
    "df"
   ]
  },
  {
   "cell_type": "code",
   "execution_count": 137,
   "id": "858ad850-e789-4050-940e-c724e524face",
   "metadata": {},
   "outputs": [],
   "source": [
    "df['score'] = df.apply(lambda x: sum([1 if x == y else 0 for x, y in zip(x.ss3, x.predicted)]) / len(x.ss3), axis=1)"
   ]
  },
  {
   "cell_type": "code",
   "execution_count": 138,
   "id": "f0f50d34-7fe8-40ed-ae6a-ad585370fafc",
   "metadata": {},
   "outputs": [
    {
     "data": {
      "text/plain": [
       "0       0.883408\n",
       "1       0.876963\n",
       "2       0.643836\n",
       "3       0.871508\n",
       "4       0.940000\n",
       "          ...   \n",
       "1097    0.847162\n",
       "1098    0.836066\n",
       "1099    0.917808\n",
       "1100    0.901754\n",
       "1101    0.908333\n",
       "Name: score, Length: 1102, dtype: float64"
      ]
     },
     "execution_count": 138,
     "metadata": {},
     "output_type": "execute_result"
    }
   ],
   "source": [
    "df['score']"
   ]
  },
  {
   "cell_type": "code",
   "execution_count": 139,
   "id": "c1dacdb5-5de9-43d7-9543-f3221102b76b",
   "metadata": {},
   "outputs": [
    {
     "data": {
      "text/plain": [
       "0.8668374061282477"
      ]
     },
     "execution_count": 139,
     "metadata": {},
     "output_type": "execute_result"
    }
   ],
   "source": [
    "df.score.mean()"
   ]
  },
  {
   "cell_type": "code",
   "execution_count": 140,
   "id": "3b9ed119-9ee4-421a-ba37-7df4cfdec0c6",
   "metadata": {},
   "outputs": [],
   "source": [
    "df['size'] = df.sequence.apply(lambda x: len(x))"
   ]
  },
  {
   "cell_type": "code",
   "execution_count": 141,
   "id": "aeccb047-91ea-4a31-8128-9fb5655c9a37",
   "metadata": {},
   "outputs": [],
   "source": [
    "def get_group(x):\n",
    "    if x <= 100:\n",
    "        return '0-100'\n",
    "    elif x<= 200:\n",
    "        return '101-200'\n",
    "    elif x <= 400:\n",
    "        return '201-400'\n",
    "    else:\n",
    "        return '401-700'"
   ]
  },
  {
   "cell_type": "code",
   "execution_count": 142,
   "id": "214157e5-f31a-4b32-82de-0b5a5d18c2c2",
   "metadata": {},
   "outputs": [],
   "source": [
    "df['size_group'] = df['size'].apply(lambda x: get_group(x))"
   ]
  },
  {
   "cell_type": "code",
   "execution_count": 143,
   "id": "c8a35651-6e03-4683-8e43-5059daa88339",
   "metadata": {},
   "outputs": [],
   "source": [
    "df['size_group'] = pd.Categorical(\n",
    "    df['size_group'], categories=[\"0-100\", \"101-200\", \"201-400\", \"401-700\"], ordered=True\n",
    ")"
   ]
  },
  {
   "cell_type": "code",
   "execution_count": 144,
   "id": "90645061-02a7-4a08-9510-7ccbb6bc34f2",
   "metadata": {},
   "outputs": [],
   "source": [
    "import seaborn as sns\n",
    "import matplotlib.pyplot as plt"
   ]
  },
  {
   "cell_type": "code",
   "execution_count": 146,
   "id": "7a216b1c-4031-48f0-b3d8-815b64c791a3",
   "metadata": {},
   "outputs": [
    {
     "data": {
      "image/png": "[encoded data removed]",
      "text/plain": [
       "<Figure size 640x480 with 1 Axes>"
      ]
     },
     "metadata": {},
     "output_type": "display_data"
    }
   ],
   "source": [
    "sns.boxplot(data=df, x=\"score\", y=\"size_group\")\n",
    "plt.title('ss3 scores for ProtTrans')\n",
    "plt.savefig('HP_esm2.png')"
   ]
  },
  {
   "cell_type": "code",
   "execution_count": null,
   "id": "e1d05497-29ac-41b3-8d9d-3fbbd3735f7e",
   "metadata": {},
   "outputs": [],
   "source": []
  }
 ],
 "metadata": {
  "kernelspec": {
   "display_name": "Python [conda env:.conda-bio]",
   "language": "python",
   "name": "conda-env-.conda-bio-py"
  },
  "language_info": {
   "codemirror_mode": {
    "name": "ipython",
    "version": 3
   },
   "file_extension": ".py",
   "mimetype": "text/x-python",
   "name": "python",
   "nbconvert_exporter": "python",
   "pygments_lexer": "ipython3",
   "version": "3.9.12"
  }
 },
 "nbformat": 4,
 "nbformat_minor": 5
}
